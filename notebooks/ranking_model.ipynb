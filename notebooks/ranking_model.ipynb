{
 "cells": [
  {
   "cell_type": "markdown",
   "id": "59917eb0-da24-4001-b2e7-74539500ec93",
   "metadata": {},
   "source": [
    "# Ranking Model Notebook\n",
    "This notebook contains code for baseline (non-ML) and ML model for ranking the venues according to venue meta data and user behavior from user sessions. "
   ]
  },
  {
   "cell_type": "code",
   "execution_count": 1,
   "id": "8030f8d8-49e6-4a8e-b999-b5630d513c70",
   "metadata": {},
   "outputs": [],
   "source": [
    "import numpy as np\n",
    "import pandas as pd\n",
    "from sklearn.preprocessing import StandardScaler\n",
    "from sklearn.metrics import ndcg_score\n",
    "from sklearn.model_selection import train_test_split\n",
    "from sklearn.metrics import accuracy_score, precision_score, recall_score\n",
    "from sklearn.utils import resample"
   ]
  },
  {
   "cell_type": "code",
   "execution_count": 2,
   "id": "96bf6324-8c00-4351-805a-78ce9cf54ac7",
   "metadata": {},
   "outputs": [],
   "source": [
    "import warnings\n",
    "warnings.filterwarnings(\"ignore\", category=FutureWarning)"
   ]
  },
  {
   "cell_type": "code",
   "execution_count": 3,
   "id": "4f1a0619-b1f3-4f02-bf66-07ead0f2cf42",
   "metadata": {},
   "outputs": [
    {
     "name": "stderr",
     "output_type": "stream",
     "text": [
      "/Users/himanshu1.aggarwal/miniconda3/envs/wolt_assignment/lib/python3.8/site-packages/IPython/core/interactiveshell.py:3165: DtypeWarning: Columns (5) have mixed types.Specify dtype option on import or set low_memory=False.\n",
      "  has_raised = await self.run_ast_nodes(code_ast.body, cell_name,\n"
     ]
    }
   ],
   "source": [
    "# loading data\n",
    "session_df = pd.read_csv('../data/sessions.csv', index_col=0, dtype={'venue_id':object})\n",
    "venue_df = pd.read_csv('../data/venues.csv', index_col=0, dtype={'venue_id':object})"
   ]
  },
  {
   "cell_type": "code",
   "execution_count": 4,
   "id": "388775b0-b24d-4026-af95-dea61fd3682a",
   "metadata": {},
   "outputs": [],
   "source": [
    "# drop duplicates form session data as observed in EDA\n",
    "session_df.drop_duplicates(inplace=True)\n",
    "\n",
    "# missing value imputation - real valued with mean, and categorical attribute in session data with mode\n",
    "venue_df.fillna(venue_df.mean(), inplace=True)\n",
    "session_df['has_seen_venue_in_this_session'].fillna(session_df['has_seen_venue_in_this_session'].mode()[0], inplace=True)"
   ]
  },
  {
   "cell_type": "code",
   "execution_count": 5,
   "id": "31ea8afa-298b-48b9-a399-feaff291c95f",
   "metadata": {},
   "outputs": [],
   "source": [
    "# relavent_list = session_df.venue_id[session_df.purchased==True].unique().tolist()"
   ]
  },
  {
   "cell_type": "markdown",
   "id": "f557500e-d2a8-4a42-8264-c79d0b25ad8b",
   "metadata": {},
   "source": [
    "## Metrics and Evaluation\n",
    "This section contains evaluation metrics for classification and modules for ranking evaluation in baseline and ML models"
   ]
  },
  {
   "cell_type": "code",
   "execution_count": 6,
   "id": "f60625c8-4758-4586-a3bf-f690e7e3cf9f",
   "metadata": {},
   "outputs": [],
   "source": [
    "def calculate_reciprocal_rank_at_k(relavent_list, predicted_list, k=None):\n",
    "    \"\"\"\n",
    "    Calculates Reciprocal Rank given relavent items and ranked list\n",
    "    \n",
    "    relavent_list: list of relevent item\n",
    "    predicted_list: generated ranked list of items \n",
    "    k: length of list to evaluate\n",
    "    returns: reciprocal of rank of first relevent item\n",
    "    \"\"\"\n",
    "    if not k:\n",
    "        k = len(predicted_list)\n",
    "    # Taking only top k items.\n",
    "    predicted_list = predicted_list[:k]\n",
    "\n",
    "    hit = 0.0\n",
    "    for rank, item in enumerate(predicted_list):\n",
    "        if item in relavent_list:\n",
    "            return 1.0 / (rank + 1)\n",
    "    return 0.0\n",
    "\n",
    "def calculate_mrr(relavent_list_of_list, ranked_list_of_list):\n",
    "    \"\"\"\n",
    "    Calculates Mean Reciprocal Rank given all relavent items and ranked lists\n",
    "    \n",
    "    relavent_list_of_list: list of list of relevent item\n",
    "    ranked_list_of_list: list of generated ranked list of items \n",
    "    returns: mrr score over all the ranked lists\n",
    "    \"\"\"\n",
    "    score = 0\n",
    "    total_records = len(ranked_list_of_list)\n",
    "    for ranked_list, relavent_list in zip(ranked_list_of_list, relavent_list_of_list):\n",
    "        score_mid = calculate_reciprocal_rank_at_k(relavent_list, ranked_list)\n",
    "        score += score_mid\n",
    "    return score/total_records if score else 0.0"
   ]
  },
  {
   "cell_type": "code",
   "execution_count": 7,
   "id": "8ea67a81-b3ab-4403-8529-6c271f468822",
   "metadata": {},
   "outputs": [],
   "source": [
    "def get_ranked_list(model, predict_rank_function, data_df, cols):\n",
    "    \"\"\"\n",
    "    model: model to use for getting scores\n",
    "    predict_rank_function: prediction function to use over model scores\n",
    "    data_df: data for which ranks to be produced\n",
    "    cols: list of coloumns\n",
    "    return: list of ranked items\n",
    "    \"\"\"\n",
    "    data_df['prob'] = predict_rank_function(model, data_df[cols].values.astype(np.float32))\n",
    "    data_df.sort_values('prob', ascending=False, inplace=True)\n",
    "    return data_df.venue_id.values.tolist()\n",
    "\n",
    "def evaluate_ranking(session_data, venue_data, model, predict_rank_function, cols):\n",
    "    \"\"\"\n",
    "    Evaluate ranking for ML models\n",
    "    \n",
    "    session_data: data for which ranks to be produced\n",
    "    venue_data: data for which ranks to be produced\n",
    "    model: trained model to be used\n",
    "    predict_rank_function: prediction function to use over model scores\n",
    "    cols: list of coloumns\n",
    "    \"\"\"\n",
    "    user_session_based_ranks = []\n",
    "    user_session_relavent_list = []\n",
    "    data_df = session_data.merge(venue_data, on='venue_id', how='right').fillna(False)\n",
    "    \n",
    "    for sess, df in data_df.groupby('session_id'):\n",
    "        rel = df[df.purchased==True].venue_id.values.tolist()\n",
    "        user_session_relavent_list.append(rel)\n",
    "        ranked = get_ranked_list(model, predict_rank_function, df, cols)\n",
    "        user_session_based_ranks.append(ranked)\n",
    "    print('MRR Score: ', calculate_mrr(user_session_relavent_list, user_session_based_ranks))\n",
    "    return\n",
    "\n",
    "def evaluate_ranking_baseline(session_data, ranked_list):\n",
    "    \"\"\"\n",
    "    Evaluate ranking for baseline mdoel\n",
    "    \n",
    "    session_data: data for which ranks to be produced\n",
    "    ranked_list: baseline ranked list (common for all sessions)\n",
    "    \"\"\"\n",
    "    user_session_based_ranks = []\n",
    "    user_session_relavent_list = []\n",
    "    \n",
    "    for sess, df in session_data.groupby('session_id'):\n",
    "        user_session_relavent_list.append(df[df.purchased==True].venue_id.values.tolist())\n",
    "        user_session_based_ranks.append(ranked_list)\n",
    "    print('MRR Score: ', calculate_mrr(user_session_relavent_list, user_session_based_ranks))\n",
    "    return"
   ]
  },
  {
   "cell_type": "markdown",
   "id": "6a91e33e-1503-42a6-afaa-06185323d110",
   "metadata": {},
   "source": [
    "# Baseline Model (Non ML)"
   ]
  },
  {
   "cell_type": "code",
   "execution_count": 8,
   "id": "e777749f-d468-494a-add3-aa4697eb2e8e",
   "metadata": {},
   "outputs": [],
   "source": [
    "def get_baseline_ranking(data):\n",
    "    \"\"\"\n",
    "    Baseline ranking method - sorting based\n",
    "    \"\"\"\n",
    "    ranked = data.sort_values(['popularity', 'rating'], ascending=False)\n",
    "    return ranked.venue_id.tolist()\n",
    "\n",
    "def get_baseline_ranking_non_linear(data):\n",
    "    \"\"\"\n",
    "    Baseline ranking method - weighted average of nonlinear functions of attributes\n",
    "    \"\"\"\n",
    "    pop = np.log(data.popularity+ 1)\n",
    "    rat = np.sqrt(data.rating + 1)\n",
    "    pri = 1 - np.sqrt(data.price_range + 1)\n",
    "    data['score'] = pop*0.4 + rat*0.3 + pri*0.3\n",
    "    ranked = data.sort_values(['score'], ascending=False)\n",
    "    return ranked.venue_id.tolist()"
   ]
  },
  {
   "cell_type": "code",
   "execution_count": 9,
   "id": "7617524f-476b-4948-bbc9-ee00eddf6702",
   "metadata": {},
   "outputs": [
    {
     "name": "stdout",
     "output_type": "stream",
     "text": [
      "Baseline - sorting: \n",
      "MRR Score:  0.00927935757757337\n",
      "\n",
      "Baseline - nonlinear: \n",
      "MRR Score:  0.011061915583722565\n"
     ]
    }
   ],
   "source": [
    "# Creating baseline ranks using above methods and evaluating results\n",
    "\n",
    "# Baseline - sorting\n",
    "ranked = get_baseline_ranking(venue_df)\n",
    "ranked = list(map(str, ranked))\n",
    "print('Baseline - sorting: ')\n",
    "evaluate_ranking_baseline(session_data=session_df, ranked_list=ranked)\n",
    "\n",
    "# Baseline nonlinear\n",
    "ranked_nl = get_baseline_ranking_non_linear(venue_df)\n",
    "ranked_nl = list(map(str, ranked_nl))\n",
    "print('\\nBaseline - nonlinear: ')\n",
    "evaluate_ranking_baseline(session_data=session_df, ranked_list=ranked_nl)\n"
   ]
  },
  {
   "cell_type": "code",
   "execution_count": null,
   "id": "3fab708d-2a21-4a4a-bcd5-4f5d6e1d29be",
   "metadata": {},
   "outputs": [],
   "source": []
  },
  {
   "cell_type": "markdown",
   "id": "85599813-36f9-4b05-9a92-0215ef8370be",
   "metadata": {},
   "source": [
    "# ML Model"
   ]
  },
  {
   "cell_type": "markdown",
   "id": "bb291eb0-0675-48b5-be34-c6be3b216dbd",
   "metadata": {},
   "source": [
    "- train model on venue+new user+is reco + order again\n",
    "- test and note classification results and accuracy\n",
    "- Get ranked list corresponding to each user-session from the regression results\n",
    "- Get MRR over all the users (baseline and ML model)"
   ]
  },
  {
   "cell_type": "code",
   "execution_count": 12,
   "id": "e95c9ff4-7fd1-4000-b1ce-5c24211d5fe8",
   "metadata": {},
   "outputs": [],
   "source": [
    "# utilities\n",
    "\n",
    "def get_resampled_data(df):\n",
    "    \"\"\"\n",
    "    upsampling data of the minority class\n",
    "    \"\"\"\n",
    "    df_majority = df[df.purchased==False]\n",
    "    df_minority = df[df.purchased==True]\n",
    "    \n",
    "    resampled_df_minority = resample(df_minority, replace=True, n_samples=len(df_majority), random_state=99)\n",
    "    new_df = pd.concat([df_majority, resampled_df_minority])\n",
    "    print('Resampled distribution', new_df.purchased.value_counts())\n",
    "    return new_df\n",
    "\n",
    "def scale_data(df, cols):\n",
    "    df[cols] = StandardScaler().fit_transform(df[cols])\n",
    "    return df"
   ]
  },
  {
   "cell_type": "code",
   "execution_count": 13,
   "id": "71709242-4f09-4bbd-9d83-3181375efafe",
   "metadata": {},
   "outputs": [],
   "source": [
    "def get_train_test_data(session_data, session_cols, venue_data, venue_cols):\n",
    "    \"\"\"\n",
    "    Generate train and test set of data, and provides option of upsampling\n",
    "    \n",
    "    session_data: data to be used\n",
    "    session_cols: list of cols from session data\n",
    "    venue_data: data to be used\n",
    "    venue_cols: list of cols from venue data\n",
    "    return: train and test set\n",
    "    \"\"\"\n",
    "    cols = session_cols + venue_cols\n",
    "#     print(cols)\n",
    "\n",
    "#     session_data = get_resampled_data(session_data)\n",
    "    X = session_data.merge(venue_data, on='venue_id', how='left')[cols].values.astype(np.float32)\n",
    "    y = session_data['purchased'].values.astype(np.float32).ravel()\n",
    "    print('X Shape: ', X.shape)\n",
    "    print('Y Shape: ', y.shape)\n",
    "    \n",
    "    X_train, X_test, y_train, y_test = train_test_split(X, y, test_size=0.3, random_state=42)\n",
    "    print('training input shape: ' + str(X_train.shape))\n",
    "    print('training output shape: ' + str(y_train.shape))\n",
    "\n",
    "    print('testing input shape: ' + str(X_test.shape))\n",
    "    print('testing output shape: ' + str(y_test.shape))\n",
    "    \n",
    "    return [X_train, X_test, y_train, y_test]"
   ]
  },
  {
   "cell_type": "code",
   "execution_count": 14,
   "id": "0790eb49-6275-4398-8216-36c995160ccd",
   "metadata": {},
   "outputs": [],
   "source": [
    "cols_to_scale = venue_df.columns[1:]\n",
    "venue_df_scaled = scale_data(venue_df, cols_to_scale)"
   ]
  },
  {
   "cell_type": "code",
   "execution_count": 15,
   "id": "b20b1f1f-0638-4cce-81c9-ac34ce2b54e4",
   "metadata": {},
   "outputs": [
    {
     "name": "stdout",
     "output_type": "stream",
     "text": [
      "X Shape:  (1350658, 9)\n",
      "Y Shape:  (1350658,)\n",
      "training input shape: (945460, 9)\n",
      "training output shape: (945460,)\n",
      "testing input shape: (405198, 9)\n",
      "testing output shape: (405198,)\n"
     ]
    }
   ],
   "source": [
    "# generating train and test sets\n",
    "\n",
    "session_cols = ['is_new_user', 'is_from_order_again', 'is_recommended']\n",
    "venue_cols = venue_df.columns[1:].values.tolist()\n",
    "\n",
    "X_train, X_test, y_train, y_test = get_train_test_data(session_data=session_df, session_cols=session_cols, venue_data=venue_df_scaled, venue_cols=venue_cols)"
   ]
  },
  {
   "cell_type": "code",
   "execution_count": 16,
   "id": "55e660d1-9cb3-4365-8855-1803250b692b",
   "metadata": {},
   "outputs": [],
   "source": [
    "def train_model(model, prediction_function, X_train, y_train, X_test, y_test):\n",
    "    \"\"\"\n",
    "    Module to train and evaluate the classification model\n",
    "    \n",
    "    \"\"\"\n",
    "    model.fit(X_train, y_train)\n",
    "    \n",
    "    y_train_pred = prediction_function(model, X_train)\n",
    "\n",
    "    print('train precision: ' + str(precision_score(y_train, y_train_pred)))\n",
    "    print('train recall: ' + str(recall_score(y_train, y_train_pred)))\n",
    "    print('train accuracy: ' + str(accuracy_score(y_train, y_train_pred)))\n",
    "\n",
    "    y_test_pred = prediction_function(model, X_test)\n",
    "\n",
    "    print('test precision: ' + str(precision_score(y_test, y_test_pred)))\n",
    "    print('test recall: ' + str(recall_score(y_test, y_test_pred)))\n",
    "    print('test accuracy: ' + str(accuracy_score(y_test, y_test_pred)))\n",
    "    \n",
    "    return model"
   ]
  },
  {
   "cell_type": "code",
   "execution_count": 17,
   "id": "ed01dd23-681d-42cf-bde8-54d03ba04e2c",
   "metadata": {},
   "outputs": [],
   "source": [
    "def get_predicted_outcome(model, data):\n",
    "    \"\"\"\n",
    "    prediction module to get classification scores\n",
    "    \"\"\"\n",
    "    return np.argmax(model.predict_proba(data), axis=1).astype(np.float32)\n",
    "\n",
    "def get_predicted_rank(model, data):\n",
    "    \"\"\"\n",
    "    module to get probabilities for rank list generation\n",
    "    \"\"\"\n",
    "    return model.predict_proba(data)[:, 1]"
   ]
  },
  {
   "cell_type": "code",
   "execution_count": null,
   "id": "22e27cd8-b1e6-4aa9-8e8e-cd9ecaef36e5",
   "metadata": {},
   "outputs": [],
   "source": []
  },
  {
   "cell_type": "markdown",
   "id": "21adeeac-256b-467e-879e-ad6885566321",
   "metadata": {},
   "source": [
    "## Following cells contain different sklearn models and their classification scores, followed by ranking evaluation"
   ]
  },
  {
   "cell_type": "markdown",
   "id": "a6a721a2-fd90-481a-ae00-2821b067c752",
   "metadata": {},
   "source": [
    "#### Logistic Regression"
   ]
  },
  {
   "cell_type": "code",
   "execution_count": 18,
   "id": "fbfe3469-a6f0-4ff6-9268-99d15516022f",
   "metadata": {},
   "outputs": [],
   "source": [
    "from sklearn.linear_model import LogisticRegression"
   ]
  },
  {
   "cell_type": "code",
   "execution_count": 19,
   "id": "608f0ec2-8a19-46e6-9647-f28099a532db",
   "metadata": {
    "tags": []
   },
   "outputs": [
    {
     "name": "stdout",
     "output_type": "stream",
     "text": [
      "train precision: 0.6360153256704981\n",
      "train recall: 0.1641938674579624\n",
      "train accuracy: 0.9970173249000487\n",
      "test precision: 0.5945205479452055\n",
      "test recall: 0.1594415870683321\n",
      "test accuracy: 0.9968114353970158\n"
     ]
    }
   ],
   "source": [
    "model_logistic_reg = train_model(LogisticRegression(), get_predicted_outcome, X_train, y_train, X_test, y_test)"
   ]
  },
  {
   "cell_type": "code",
   "execution_count": 20,
   "id": "0a41839e-ff38-45b0-8c67-76812098ca5b",
   "metadata": {
    "tags": []
   },
   "outputs": [
    {
     "name": "stdout",
     "output_type": "stream",
     "text": [
      "MRR Score:  0.4822350373966331\n"
     ]
    }
   ],
   "source": [
    "# evaluate\n",
    "evaluate_ranking(session_data=session_df, venue_data=venue_df_scaled, model=model_logistic_reg, predict_rank_function=get_predicted_rank, cols=session_cols+venue_cols)"
   ]
  },
  {
   "cell_type": "markdown",
   "id": "c01a906b-8d63-454d-9a14-e2a462bedb87",
   "metadata": {
    "tags": []
   },
   "source": [
    "#### Decision Trees"
   ]
  },
  {
   "cell_type": "code",
   "execution_count": 34,
   "id": "41e3c458-a361-4192-9fe0-ad659c2a685e",
   "metadata": {},
   "outputs": [],
   "source": [
    "from sklearn import tree"
   ]
  },
  {
   "cell_type": "code",
   "execution_count": 35,
   "id": "68bd82e5-1c07-4ec0-b70a-a5759945c04c",
   "metadata": {},
   "outputs": [
    {
     "name": "stdout",
     "output_type": "stream",
     "text": [
      "train precision: 0.7737737737737738\n",
      "train recall: 0.25486317177711837\n",
      "train accuracy: 0.9973705920927379\n",
      "test precision: 0.6081081081081081\n",
      "test recall: 0.19838354151359294\n",
      "test accuracy: 0.9968780694870162\n"
     ]
    }
   ],
   "source": [
    "model_decision_tree = train_model(tree.DecisionTreeClassifier(), get_predicted_outcome, X_train, y_train, X_test, y_test)"
   ]
  },
  {
   "cell_type": "code",
   "execution_count": 36,
   "id": "843f7f29-7347-435c-b73a-4f0eb0b0a3fd",
   "metadata": {},
   "outputs": [
    {
     "name": "stdout",
     "output_type": "stream",
     "text": [
      "MRR Score:  0.5367197714992566\n"
     ]
    }
   ],
   "source": [
    "# evaluate\n",
    "evaluate_ranking(session_data=session_df, venue_data=venue_df_scaled, model=model_decision_tree, predict_rank_function=get_predicted_rank, cols=session_cols+venue_cols)"
   ]
  },
  {
   "cell_type": "markdown",
   "id": "6df4d7f7-d15a-4f29-8dd5-af4654d466d8",
   "metadata": {},
   "source": [
    "#### GBoost"
   ]
  },
  {
   "cell_type": "code",
   "execution_count": 40,
   "id": "13372a49-82de-4c8c-a589-87288aa7fe9a",
   "metadata": {},
   "outputs": [],
   "source": [
    "from sklearn.metrics import mean_squared_error\n",
    "from sklearn.ensemble import GradientBoostingClassifier"
   ]
  },
  {
   "cell_type": "code",
   "execution_count": 51,
   "id": "76dbee90-fd2b-4899-8ef5-a4f2f668fcd4",
   "metadata": {},
   "outputs": [],
   "source": [
    "params_gb = {\n",
    "    'n_estimators': 300,\n",
    "    'max_depth': 4,\n",
    "}"
   ]
  },
  {
   "cell_type": "code",
   "execution_count": 52,
   "id": "3d316dfe-ea84-4156-87db-d83c93658e0a",
   "metadata": {},
   "outputs": [
    {
     "name": "stdout",
     "output_type": "stream",
     "text": [
      "train precision: 0.5705128205128205\n",
      "train recall: 0.05868776788658094\n",
      "train accuracy: 0.9968385759312927\n",
      "test precision: 0.5\n",
      "test recall: 0.05878030859662013\n",
      "test accuracy: 0.9966411482781258\n"
     ]
    }
   ],
   "source": [
    "model_gboost = train_model(GradientBoostingClassifier(**params_gb), get_predicted_outcome, X_train, y_train, X_test, y_test)"
   ]
  },
  {
   "cell_type": "code",
   "execution_count": 53,
   "id": "0906afe7-8257-4773-8727-f7deab44eb1b",
   "metadata": {
    "tags": []
   },
   "outputs": [
    {
     "name": "stdout",
     "output_type": "stream",
     "text": [
      "MRR Score:  0.38722955862096486\n"
     ]
    }
   ],
   "source": [
    "# evaluate\n",
    "evaluate_ranking(session_data=session_df, venue_data=venue_df_scaled, model=model_gboost, predict_rank_function=get_predicted_rank, cols=session_cols+venue_cols)"
   ]
  },
  {
   "cell_type": "markdown",
   "id": "97c2d8ca-aebb-4688-b2f9-5eefb00bb552",
   "metadata": {
    "tags": []
   },
   "source": [
    "#### Neural Nets"
   ]
  },
  {
   "cell_type": "code",
   "execution_count": 44,
   "id": "1525b2c3-0f8e-406e-93ed-1fe08e9776ef",
   "metadata": {
    "tags": []
   },
   "outputs": [],
   "source": [
    "from sklearn.neural_network import MLPClassifier"
   ]
  },
  {
   "cell_type": "code",
   "execution_count": 45,
   "id": "5cfec01a-163a-4cff-9a43-cdbb7fbb379a",
   "metadata": {},
   "outputs": [],
   "source": [
    "params_nn = {\n",
    "    'random_state': 99,\n",
    "    'max_iter': 300,\n",
    "    'solver': 'sgd',\n",
    "    'hidden_layer_sizes': (50, 100, 100, 50),\n",
    "}"
   ]
  },
  {
   "cell_type": "code",
   "execution_count": 46,
   "id": "c4a294f1-71ac-4afe-b38c-749a607cf6ba",
   "metadata": {},
   "outputs": [
    {
     "name": "stdout",
     "output_type": "stream",
     "text": [
      "train precision: 0.6646525679758308\n",
      "train recall: 0.1450708869106495\n",
      "train accuracy: 0.9970226133310769\n",
      "test precision: 0.6385135135135135\n",
      "test recall: 0.13886847905951505\n",
      "test accuracy: 0.9968435184773864\n"
     ]
    }
   ],
   "source": [
    "model_nn = train_model(MLPClassifier(**params_nn), get_predicted_outcome, X_train, y_train, X_test, y_test)"
   ]
  },
  {
   "cell_type": "code",
   "execution_count": 47,
   "id": "2f9f5725-85df-402a-aa90-bca2552db371",
   "metadata": {},
   "outputs": [
    {
     "name": "stdout",
     "output_type": "stream",
     "text": [
      "MRR Score:  0.48771859319948674\n"
     ]
    }
   ],
   "source": [
    "# evaluate\n",
    "evaluate_ranking(session_data=session_df, venue_data=venue_df_scaled, model=model_nn, predict_rank_function=get_predicted_rank, cols=session_cols+venue_cols)"
   ]
  },
  {
   "cell_type": "markdown",
   "id": "570722d8-6eb1-4089-94ab-20f44b60bcc4",
   "metadata": {},
   "source": [
    "#### Random Forest"
   ]
  },
  {
   "cell_type": "code",
   "execution_count": 37,
   "id": "c3dc7668-9f70-4249-ac36-540691ff4806",
   "metadata": {},
   "outputs": [],
   "source": [
    "from sklearn.ensemble import RandomForestClassifier"
   ]
  },
  {
   "cell_type": "code",
   "execution_count": 38,
   "id": "ce6a5363-b437-40f0-994a-cc8ded21f79e",
   "metadata": {},
   "outputs": [
    {
     "name": "stdout",
     "output_type": "stream",
     "text": [
      "train precision: 0.7470641373080398\n",
      "train recall: 0.272667326079789\n",
      "train accuracy: 0.9973705920927379\n",
      "test precision: 0.5966735966735967\n",
      "test recall: 0.21087435709037472\n",
      "test accuracy: 0.9968706656992384\n"
     ]
    }
   ],
   "source": [
    "model_rf = train_model(RandomForestClassifier(), get_predicted_outcome, X_train, y_train, X_test, y_test)"
   ]
  },
  {
   "cell_type": "code",
   "execution_count": 39,
   "id": "5dfa8b6c-9860-4f08-861b-4c35c5545829",
   "metadata": {},
   "outputs": [
    {
     "name": "stdout",
     "output_type": "stream",
     "text": [
      "MRR Score:  0.5423520574954974\n"
     ]
    }
   ],
   "source": [
    "# evaluate\n",
    "evaluate_ranking(session_data=session_df, venue_data=venue_df_scaled, model=model_rf, predict_rank_function=get_predicted_rank, cols=session_cols+venue_cols)"
   ]
  },
  {
   "cell_type": "code",
   "execution_count": null,
   "id": "08a1e15c-b554-4bd9-9f7f-8587dadab7c8",
   "metadata": {},
   "outputs": [],
   "source": []
  }
 ],
 "metadata": {
  "kernelspec": {
   "display_name": "Python 3",
   "language": "python",
   "name": "python3"
  },
  "language_info": {
   "codemirror_mode": {
    "name": "ipython",
    "version": 3
   },
   "file_extension": ".py",
   "mimetype": "text/x-python",
   "name": "python",
   "nbconvert_exporter": "python",
   "pygments_lexer": "ipython3",
   "version": "3.8.8"
  }
 },
 "nbformat": 4,
 "nbformat_minor": 5
}
